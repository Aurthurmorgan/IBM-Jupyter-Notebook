{
 "cells": [
  {
   "cell_type": "markdown",
   "id": "b8d83097-a5a0-437a-b63c-ff4bfeffa0f2",
   "metadata": {
    "tags": []
   },
   "source": [
    "# My Jupyter Notebook on IBM Watson Studio"
   ]
  },
  {
   "cell_type": "markdown",
   "id": "de0fa8ab-7f5d-42c1-8945-ec7f240a47c6",
   "metadata": {},
   "source": [
    "**I am Koushik Eswaar D**\n",
    "I am currently pursuing my undergraduate studies in the field of Biotechnology"
   ]
  },
  {
   "cell_type": "markdown",
   "id": "e697f873-9461-40b1-b5d9-920674fd42aa",
   "metadata": {},
   "source": [
    "*I am interested in data science because I am curious in finding the patterns in history and data science offers similar findings science.*"
   ]
  },
  {
   "cell_type": "markdown",
   "id": "07483410-ebae-4a39-81b5-9568aaa61f7d",
   "metadata": {},
   "source": [
    "### My code is about adding two numbers"
   ]
  },
  {
   "cell_type": "code",
   "execution_count": 1,
   "id": "8b9235ad-a2c2-4505-b61b-2aee192b4946",
   "metadata": {},
   "outputs": [
    {
     "data": {
      "text/plain": [
       "84"
      ]
     },
     "execution_count": 1,
     "metadata": {},
     "output_type": "execute_result"
    }
   ],
   "source": [
    "40+44"
   ]
  },
  {
   "cell_type": "markdown",
   "id": "217e32a5-cb0a-4c74-9d83-666a6db9b95a",
   "metadata": {},
   "source": [
    "* This is a bulleted list\n",
    "1. This is a numbered list\n",
    "~~This is a strikethr"
   ]
  }
 ],
 "metadata": {
  "kernelspec": {
   "display_name": "Python",
   "language": "python",
   "name": "conda-env-python-py"
  },
  "language_info": {
   "codemirror_mode": {
    "name": "ipython",
    "version": 3
   },
   "file_extension": ".py",
   "mimetype": "text/x-python",
   "name": "python",
   "nbconvert_exporter": "python",
   "pygments_lexer": "ipython3",
   "version": "3.7.12"
  }
 },
 "nbformat": 4,
 "nbformat_minor": 5
}
